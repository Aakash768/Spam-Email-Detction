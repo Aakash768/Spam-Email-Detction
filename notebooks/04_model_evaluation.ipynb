{
 "cells": [
  {
   "cell_type": "markdown",
   "metadata": {},
   "source": [
    "1. Import Libraries"
   ]
  },
  {
   "cell_type": "code",
   "execution_count": 17,
   "metadata": {},
   "outputs": [],
   "source": [
    "import pandas as pd\n",
    "import numpy as np\n",
    "from sklearn.metrics import accuracy_score, precision_score, recall_score, f1_score, classification_report\n",
    "import pickle\n",
    "import matplotlib.pyplot as plt\n",
    "import joblib"
   ]
  },
  {
   "cell_type": "markdown",
   "metadata": {},
   "source": [
    "2. Load the Trained Model"
   ]
  },
  {
   "cell_type": "code",
   "execution_count": 18,
   "metadata": {},
   "outputs": [],
   "source": [
    "# Load the trained model\n",
    "\n",
    "# Load SVM model\n",
    "svm_model = joblib.load('../models/saved_models/svm_model.joblib')\n",
    "\n",
    "# Load Naive Bayes model\n",
    "nb_model = joblib.load('../models/saved_models/nb_model.joblib')\n",
    "\n",
    "#Random Forest Classifier\n",
    "rf_model = joblib.load('../models/saved_models/rf_model.joblib')\n",
    "\n",
    "# Load the Linear Regression Model\n",
    "lr_model = joblib.load('../models/saved_models/lr_model.joblib')"
   ]
  },
  {
   "cell_type": "markdown",
   "metadata": {},
   "source": [
    "3. Load the Test Data"
   ]
  },
  {
   "cell_type": "code",
   "execution_count": 19,
   "metadata": {},
   "outputs": [],
   "source": [
    "# Load the preprocessed test data\n",
    "data = pd.read_csv(\"../data/processed/spam_processed.csv\")\n",
    "\n",
    "# Separate features and target\n",
    "x = data.drop(columns=[\"Label_num\"])\n",
    "y = data[\"Label_num\"]\n",
    "\n",
    "#Split into training and testing sets\n",
    "# x_train, x_test, y_train, y_test = train_test_split(x, y, test_size=0.2, random_state=42)"
   ]
  },
  {
   "cell_type": "markdown",
   "metadata": {},
   "source": [
    "4. Make Predictions"
   ]
  },
  {
   "cell_type": "code",
   "execution_count": 20,
   "metadata": {},
   "outputs": [],
   "source": [
    "svm_predictions = svm_model.predict(x)\n",
    "nb_predictions = nb_model.predict(x)\n",
    "rf_predictions = rf_model.predict(x)\n",
    "lr_predictions = lr_model.predict(x)\n"
   ]
  },
  {
   "cell_type": "markdown",
   "metadata": {},
   "source": [
    "5. Evaluate Models"
   ]
  },
  {
   "cell_type": "code",
   "execution_count": 21,
   "metadata": {},
   "outputs": [],
   "source": [
    "def evaluate_model(y_true, y_pred):\n",
    "    print(\"Accuracy:\", accuracy_score(y_true, y_pred))\n",
    "    print(\"Precision:\", precision_score(y_true, y_pred))\n",
    "    print(\"Recall:\", recall_score(y_true, y_pred))\n",
    "    print(\"F1 Score:\", f1_score(y_true, y_pred))\n",
    "    print(\"\\nClassification Report:\\n\", classification_report(y_true, y_pred))\n"
   ]
  },
  {
   "cell_type": "code",
   "execution_count": 22,
   "metadata": {},
   "outputs": [
    {
     "name": "stdout",
     "output_type": "stream",
     "text": [
      "Evaluation for SVM Model:\n",
      "Accuracy: 0.9893348846228427\n",
      "Precision: 0.9867109634551495\n",
      "Recall: 0.9266770670826833\n",
      "F1 Score: 0.9557522123893806\n",
      "\n",
      "Classification Report:\n",
      "               precision    recall  f1-score   support\n",
      "\n",
      "           0       0.99      1.00      0.99      4516\n",
      "           1       0.99      0.93      0.96       641\n",
      "\n",
      "    accuracy                           0.99      5157\n",
      "   macro avg       0.99      0.96      0.97      5157\n",
      "weighted avg       0.99      0.99      0.99      5157\n",
      "\n"
     ]
    }
   ],
   "source": [
    "print(\"Evaluation for SVM Model:\")\n",
    "evaluate_model(y, svm_predictions)\n"
   ]
  },
  {
   "cell_type": "code",
   "execution_count": 23,
   "metadata": {},
   "outputs": [
    {
     "name": "stdout",
     "output_type": "stream",
     "text": [
      "Evaluation for Naive Bayes Model:\n",
      "Accuracy: 0.9780880356796587\n",
      "Precision: 0.9962406015037594\n",
      "Recall: 0.8268330733229329\n",
      "F1 Score: 0.9036658141517476\n",
      "\n",
      "Classification Report:\n",
      "               precision    recall  f1-score   support\n",
      "\n",
      "           0       0.98      1.00      0.99      4516\n",
      "           1       1.00      0.83      0.90       641\n",
      "\n",
      "    accuracy                           0.98      5157\n",
      "   macro avg       0.99      0.91      0.95      5157\n",
      "weighted avg       0.98      0.98      0.98      5157\n",
      "\n"
     ]
    }
   ],
   "source": [
    "print(\"Evaluation for Naive Bayes Model:\")\n",
    "evaluate_model(y, nb_predictions)\n"
   ]
  },
  {
   "cell_type": "code",
   "execution_count": 24,
   "metadata": {},
   "outputs": [
    {
     "name": "stdout",
     "output_type": "stream",
     "text": [
      "Evaluation for Random Forest Model:\n",
      "Accuracy: 0.995346131471786\n",
      "Precision: 0.9920255183413078\n",
      "Recall: 0.9703588143525741\n",
      "F1 Score: 0.9810725552050473\n",
      "\n",
      "Classification Report:\n",
      "               precision    recall  f1-score   support\n",
      "\n",
      "           0       1.00      1.00      1.00      4516\n",
      "           1       0.99      0.97      0.98       641\n",
      "\n",
      "    accuracy                           1.00      5157\n",
      "   macro avg       0.99      0.98      0.99      5157\n",
      "weighted avg       1.00      1.00      1.00      5157\n",
      "\n"
     ]
    }
   ],
   "source": [
    "print(\"Evaluation for Random Forest Model:\")\n",
    "evaluate_model(y, rf_predictions)\n"
   ]
  },
  {
   "cell_type": "code",
   "execution_count": 25,
   "metadata": {},
   "outputs": [
    {
     "name": "stdout",
     "output_type": "stream",
     "text": [
      "Evaluation for Linear Regression Model:\n",
      "Accuracy: 0.9621873182082606\n",
      "Precision: 0.9911894273127754\n",
      "Recall: 0.7020280811232449\n",
      "F1 Score: 0.821917808219178\n",
      "\n",
      "Classification Report:\n",
      "               precision    recall  f1-score   support\n",
      "\n",
      "           0       0.96      1.00      0.98      4516\n",
      "           1       0.99      0.70      0.82       641\n",
      "\n",
      "    accuracy                           0.96      5157\n",
      "   macro avg       0.98      0.85      0.90      5157\n",
      "weighted avg       0.96      0.96      0.96      5157\n",
      "\n"
     ]
    }
   ],
   "source": [
    "print(\"Evaluation for Linear Regression Model:\")\n",
    "evaluate_model(y, lr_predictions)"
   ]
  },
  {
   "cell_type": "code",
   "execution_count": 26,
   "metadata": {},
   "outputs": [
    {
     "name": "stdout",
     "output_type": "stream",
     "text": [
      "               Model  Accuracy  Precision    Recall  F1 Score\n",
      "0                SVM  0.989335   0.986711  0.926677  0.955752\n",
      "1        Naive Bayes  0.978088   0.996241  0.826833  0.903666\n",
      "2      Random Forest  0.995346   0.992026  0.970359  0.981073\n",
      "3  Linear Regression  0.962187   0.991189  0.702028  0.821918\n"
     ]
    }
   ],
   "source": [
    "results = {\n",
    "    'Model': ['SVM', 'Naive Bayes', 'Random Forest', 'Linear Regression'],\n",
    "    'Accuracy': [\n",
    "        accuracy_score(y, svm_predictions),\n",
    "        accuracy_score(y, nb_predictions),\n",
    "        accuracy_score(y, rf_predictions),\n",
    "        accuracy_score(y, lr_predictions)\n",
    "        \n",
    "    ],\n",
    "    'Precision': [\n",
    "        precision_score(y, svm_predictions),\n",
    "        precision_score(y, nb_predictions),\n",
    "        precision_score(y, rf_predictions),\n",
    "        precision_score(y, lr_predictions)\n",
    "    ],\n",
    "    'Recall': [\n",
    "        recall_score(y, svm_predictions),\n",
    "        recall_score(y, nb_predictions),\n",
    "        recall_score(y, rf_predictions),\n",
    "        recall_score(y, lr_predictions)\n",
    "    ],\n",
    "    'F1 Score': [\n",
    "        f1_score(y, svm_predictions),\n",
    "        f1_score(y, nb_predictions),\n",
    "        f1_score(y, rf_predictions),\n",
    "        f1_score(y, lr_predictions)\n",
    "    ]\n",
    "}\n",
    "\n",
    "results_df = pd.DataFrame(results)\n",
    "print(results_df)\n"
   ]
  },
  {
   "cell_type": "code",
   "execution_count": 27,
   "metadata": {},
   "outputs": [
    {
     "data": {
      "image/png": "[encoded data removed]",
      "text/plain": [
       "<Figure size 640x480 with 1 Axes>"
      ]
     },
     "metadata": {},
     "output_type": "display_data"
    }
   ],
   "source": [
    "\n",
    "# Plot F1 Scores\n",
    "plt.bar(results['Model'], results['F1 Score'], color=['blue', 'green', 'orange'])\n",
    "plt.title('Model F1 Scores')\n",
    "plt.ylabel('F1 Score')\n",
    "plt.xlabel('Model')\n",
    "plt.show()\n"
   ]
  }
 ],
 "metadata": {
  "kernelspec": {
   "display_name": ".venv",
   "language": "python",
   "name": "python3"
  },
  "language_info": {
   "codemirror_mode": {
    "name": "ipython",
    "version": 3
   },
   "file_extension": ".py",
   "mimetype": "text/x-python",
   "name": "python",
   "nbconvert_exporter": "python",
   "pygments_lexer": "ipython3",
   "version": "3.12.7"
  }
 },
 "nbformat": 4,
 "nbformat_minor": 2
}
