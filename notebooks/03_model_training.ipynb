{
 "cells": [
  {
   "cell_type": "markdown",
   "metadata": {},
   "source": [
    "1. Import Libraries"
   ]
  },
  {
   "cell_type": "code",
   "execution_count": 1,
   "metadata": {},
   "outputs": [],
   "source": [
    "import pandas as pd\n",
    "import numpy as np\n",
    "from sklearn.model_selection import train_test_split\n",
    "from sklearn.ensemble import RandomForestClassifier\n",
    "from sklearn.linear_model import LogisticRegression\n",
    "from sklearn.svm import SVC\n",
    "from sklearn.metrics import accuracy_score, precision_score, recall_score, f1_score, classification_report, confusion_matrix\n",
    "import matplotlib.pyplot as plt\n",
    "import seaborn as sns\n",
    "from sklearn.naive_bayes import MultinomialNB\n",
    "import time\n",
    "import joblib\n",
    "from sklearn.feature_extraction.text import TfidfVectorizer"
   ]
  },
  {
   "cell_type": "markdown",
   "metadata": {},
   "source": [
    "2. Load Preprocessed Data"
   ]
  },
  {
   "cell_type": "code",
   "execution_count": 3,
   "metadata": {},
   "outputs": [],
   "source": [
    "# load the dataset\n",
    "data = pd.read_csv('../data/processed/spam_processed.csv')\n",
    "\n",
    "x = data.drop(['Label_num'], axis=1)\n",
    "y = data[\"Label_num\"]\n",
    "\n",
    "#Split into training and testing sets (if not already split)\n",
    "x_train, x_test, y_train, y_test = train_test_split(x,y, test_size=0.2, random_state=42)"
   ]
  },
  {
   "cell_type": "markdown",
   "metadata": {},
   "source": [
    "3. Train Multiple Models"
   ]
  },
  {
   "cell_type": "code",
   "execution_count": 40,
   "metadata": {},
   "outputs": [
    {
     "name": "stdout",
     "output_type": "stream",
     "text": [
      "Logistic Regression: 0.4331042766571045 seconds\n"
     ]
    },
    {
     "data": {
      "text/plain": [
       "['../models/saved_models/lr_model.joblib']"
      ]
     },
     "execution_count": 40,
     "metadata": {},
     "output_type": "execute_result"
    }
   ],
   "source": [
    "# Logistic Regression\n",
    "start_time = time.time()\n",
    "\n",
    "lr_model = LogisticRegression(max_iter=200)\n",
    "lr_model.fit(x_train, y_train)\n",
    "\n",
    "print(\"Logistic Regression:\", time.time() - start_time, \"seconds\")\n",
    "\n",
    "# Save the Logistic Regression\n",
    "joblib.dump(lr_model, '../models/saved_models/lr_model.joblib')"
   ]
  },
  {
   "cell_type": "code",
   "execution_count": 41,
   "metadata": {},
   "outputs": [
    {
     "name": "stdout",
     "output_type": "stream",
     "text": [
      "Random Forest Classifier: 5.248088121414185 seconds\n"
     ]
    },
    {
     "data": {
      "text/plain": [
       "['../models/saved_models/rf_model.joblib']"
      ]
     },
     "execution_count": 41,
     "metadata": {},
     "output_type": "execute_result"
    }
   ],
   "source": [
    "#Random Forest Classifier\n",
    "start_time = time.time()\n",
    "\n",
    "rf_model = RandomForestClassifier(n_estimators=100, random_state=42)\n",
    "rf_model.fit(x_train, y_train)\n",
    "\n",
    "print(\"Random Forest Classifier:\", time.time() - start_time, \"seconds\")\n",
    "\n",
    "# Save the Random Forest model\n",
    "joblib.dump(rf_model, '../models/saved_models/rf_model.joblib')"
   ]
  },
  {
   "cell_type": "code",
   "execution_count": 42,
   "metadata": {},
   "outputs": [
    {
     "name": "stdout",
     "output_type": "stream",
     "text": [
      "SVM training time: 30.678417682647705 seconds\n"
     ]
    },
    {
     "data": {
      "text/plain": [
       "['../models/saved_models/svm_model.joblib']"
      ]
     },
     "execution_count": 42,
     "metadata": {},
     "output_type": "execute_result"
    }
   ],
   "source": [
    "# Support Vector Machine (SVM)\n",
    "start_time = time.time()\n",
    "svm_model = SVC(kernel=\"linear\", probability=True, random_state=42)\n",
    "svm_model.fit(x_train, y_train)\n",
    "\n",
    "print(\"SVM training time:\", time.time() - start_time, \"seconds\")\n",
    "\n",
    "# Save the SVM model\n",
    "joblib.dump(svm_model, '../models/saved_models/svm_model.joblib')"
   ]
  },
  {
   "cell_type": "code",
   "execution_count": null,
   "metadata": {},
   "outputs": [
    {
     "name": "stdout",
     "output_type": "stream",
     "text": [
      "Naive Bayes model: 0.0542752742767334 seconds\n"
     ]
    },
    {
     "data": {
      "text/plain": [
       "['../models/saved_models/nb_model.joblib']"
      ]
     },
     "execution_count": 43,
     "metadata": {},
     "output_type": "execute_result"
    }
   ],
   "source": [
    "# naive bayes\n",
    "start_time = time.time()\n",
    "\n",
    "nb_model = MultinomialNB()\n",
    "nb_model.fit(x_train, y_train)\n",
    "\n",
    "print(\"Naive Bayes model:\", time.time() - start_time, \"seconds\")\n",
    "\n",
    "# Save the Naive Bayes model\n",
    "joblib.dump(nb_model, '../models/saved_models/nb_model.joblib')"
   ]
  }
 ],
 "metadata": {
  "kernelspec": {
   "display_name": ".venv",
   "language": "python",
   "name": "python3"
  },
  "language_info": {
   "codemirror_mode": {
    "name": "ipython",
    "version": 3
   },
   "file_extension": ".py",
   "mimetype": "text/x-python",
   "name": "python",
   "nbconvert_exporter": "python",
   "pygments_lexer": "ipython3",
   "version": "3.12.7"
  }
 },
 "nbformat": 4,
 "nbformat_minor": 2
}
