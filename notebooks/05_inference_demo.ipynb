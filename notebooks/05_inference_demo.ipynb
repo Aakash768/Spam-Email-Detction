{
 "cells": [
  {
   "cell_type": "markdown",
   "metadata": {},
   "source": [
    "1. Import Necessary Libraries"
   ]
  },
  {
   "cell_type": "code",
   "execution_count": null,
   "metadata": {},
   "outputs": [],
   "source": [
    "import pandas as pd\n",
    "import numpy as np\n",
    "import pickle\n",
    "import re\n",
    "import string\n",
    "from sklearn.feature_extraction.text import TfidfVectorizer\n",
    "import joblib"
   ]
  },
  {
   "cell_type": "markdown",
   "metadata": {},
   "source": [
    "2. Load the Trained Model and TF-IDF Vectorizer"
   ]
  },
  {
   "cell_type": "code",
   "execution_count": null,
   "metadata": {},
   "outputs": [],
   "source": [
    "# Load model\n",
    "\n",
    "# rf_model = joblib.load('../models/saved_models/rf_model.joblib')\n",
    "# lr_model = joblib.load('../models/saved_models/lr_model.joblib')\n",
    "# nb_model = joblib.load('../models/saved_models/nb_model.joblib')\n",
    "svm_model = joblib.load('../models/saved_models/svm_model.joblib')\n",
    "\n",
    "tdifd = joblib.load(\"../data/processed/tfidf_vectorizer.joblib\")\n"
   ]
  },
  {
   "cell_type": "markdown",
   "metadata": {},
   "source": [
    "3. Preprocess the input message"
   ]
  },
  {
   "cell_type": "code",
   "execution_count": null,
   "metadata": {},
   "outputs": [],
   "source": [
    "def preprocess_text(text):\n",
    "    # Convert to lowercase\n",
    "    text = text.lower()\n",
    "    # Remove punctuation\n",
    "    text = text.translate(str.maketrans('', '', string.punctuation))\n",
    "    # Remove numbers\n",
    "    text = re.sub(r'\\d+', '', text)\n",
    "    # Remove extra whitespace\n",
    "    text = ' '.join(text.split())\n",
    "    return text\n"
   ]
  },
  {
   "cell_type": "code",
   "execution_count": 6,
   "metadata": {},
   "outputs": [
    {
     "name": "stdout",
     "output_type": "stream",
     "text": [
      "Email: Sounds great! Are you home now?\n",
      "Prediction: Ham\n",
      "\n",
      "Email: Will u meet ur dream partner soon? Is ur career off 2 a flying start? 2 find out free, txt HORO followed by ur star sign, e.g. HORO ARIES\n",
      "Prediction: Spam\n",
      "\n",
      "Email: Congratulations! You've won a $1000 gift card! Click here to claim your prize!\n",
      "Prediction: Spam\n",
      "\n",
      "Email: Final reminder: Your subscription will expire soon! Click here to renew your account before it's too late.\n",
      "Prediction: Ham\n",
      "\n"
     ]
    },
    {
     "name": "stderr",
     "output_type": "stream",
     "text": [
      "c:\\Users\\aakash\\Videos\\AI Internship\\Spam Email Detction\\.venv\\Lib\\site-packages\\sklearn\\base.py:493: UserWarning: X does not have valid feature names, but SVC was fitted with feature names\n",
      "  warnings.warn(\n"
     ]
    }
   ],
   "source": [
    "emails = [\n",
    "    \"Sounds great! Are you home now?\",\n",
    "    \"Will u meet ur dream partner soon? Is ur career off 2 a flying start? 2 find out free, txt HORO followed by ur star sign, e.g. HORO ARIES\",\n",
    "    \"Congratulations! You've won a $1000 gift card! Click here to claim your prize!\",\n",
    "    \"Final reminder: Your subscription will expire soon! Click here to renew your account before it's too late.\"\n",
    "]\n",
    "\n",
    "# Preprocess the emails\n",
    "emails_cleaned = [preprocess_text(email) for email in emails]\n",
    "\n",
    "# Convert the cleaned text into TF-IDF vectors using the loaded vectorizer\n",
    "email_vectors = tdifd.transform(emails_cleaned).toarray()\n",
    "\n",
    "# Predict the class (ham/spam)\n",
    "predictions = svm_model.predict(email_vectors)\n",
    "\n",
    "# Print the results\n",
    "for email, prediction in zip(emails, predictions):\n",
    "    print(f\"Email: {email}\")\n",
    "    print(f\"Prediction: {'Spam' if prediction == 1 else 'Ham'}\")\n",
    "    print()\n"
   ]
  }
 ],
 "metadata": {
  "kernelspec": {
   "display_name": ".venv",
   "language": "python",
   "name": "python3"
  },
  "language_info": {
   "codemirror_mode": {
    "name": "ipython",
    "version": 3
   },
   "file_extension": ".py",
   "mimetype": "text/x-python",
   "name": "python",
   "nbconvert_exporter": "python",
   "pygments_lexer": "ipython3",
   "version": "3.12.7"
  }
 },
 "nbformat": 4,
 "nbformat_minor": 2
}
